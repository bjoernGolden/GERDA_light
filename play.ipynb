{
 "cells": [
  {
   "attachments": {},
   "cell_type": "markdown",
   "metadata": {},
   "source": [
    "## GERDA LIGHT\n",
    "This notebook is meant to test out and use the reduced  version of GERDA.\n",
    "\n",
    "The \"Light\" version build upon the synthetic population created with the orginial GERDA by using the agent_information Dataframe (*ai.df) and the contact table p_l_t, which states the location ID for all agents for all timesteps (hours) for one week.\n",
    "\n",
    "Worklfow:\n",
    "- create a new world object \n",
    "- initialize a model with this world object\n",
    "- set seed infections\n",
    "- simulate the model \n",
    "\n",
    "\n",
    "PS.: ## - comment,  # - hide lines\n"
   ]
  },
  {
   "cell_type": "code",
   "execution_count": 17,
   "metadata": {},
   "outputs": [],
   "source": [
    "import GERDA_light as gl \n",
    "import numpy as np\n",
    "import logging as log\n",
    "import matplotlib.pyplot as plt\n",
    "logger = log.getLogger()\n",
    "logger.setLevel(log.INFO)"
   ]
  },
  {
   "cell_type": "code",
   "execution_count": 13,
   "metadata": {},
   "outputs": [
    {
     "name": "stderr",
     "output_type": "stream",
     "text": [
      "INFO:root:create contact list\n",
      "INFO:root:contact list is done\n",
      "INFO:root:max cluster size: 1\n"
     ]
    }
   ],
   "source": [
    "## initialize a world \n",
    "w1 = gl.World(\n",
    "           p_l_t_filepath = 'src/Gangelt_03_new_p_l_t.gz',\n",
    "           ai_df_filename = 'src/Gangelt_03_new_ai_df.gz',\n",
    "           clustering=False,\n",
    "           k_I=0.2,\n",
    "           )\n",
    "# w2 = gl.World(\n",
    "#            p_l_t_filepath = 'src/Gangelt_03_new_p_l_t.gz',\n",
    "#            ai_df_filename = 'src/Gangelt_03_new_ai_df.gz',\n",
    "#            clustering=True,\n",
    "#            k_I=0.2,\n",
    "#            )"
   ]
  },
  {
   "cell_type": "code",
   "execution_count": 16,
   "metadata": {},
   "outputs": [
    {
     "name": "stderr",
     "output_type": "stream",
     "text": [
      "INFO:root:create contact list\n"
     ]
    },
    {
     "name": "stdout",
     "output_type": "stream",
     "text": [
      "iter:  1\n"
     ]
    },
    {
     "name": "stderr",
     "output_type": "stream",
     "text": [
      "INFO:root:contact list is done\n",
      "INFO:root:max cluster size: 1\n",
      "INFO:root:create contact list\n",
      "INFO:root:contact list is done\n",
      "INFO:root:run test for mean infection times\n"
     ]
    }
   ],
   "source": [
    "model = gl.SIS_model(w1)#no clustering\n",
    "i = 1   # selected agent ID \n",
    "model.world.agents[i].state=1 ## infect one agent\n",
    "model.world.agents[i].times['infection'] = 0 \n",
    "model.run(timespan=2000, only_inf_rel_contacts=True)"
   ]
  },
  {
   "cell_type": "code",
   "execution_count": 3,
   "metadata": {},
   "outputs": [
    {
     "name": "stderr",
     "output_type": "stream",
     "text": [
      "INFO:root:create contact list\n"
     ]
    },
    {
     "name": "stdout",
     "output_type": "stream",
     "text": [
      "iter:  1\n"
     ]
    },
    {
     "name": "stderr",
     "output_type": "stream",
     "text": [
      "INFO:root:contact list is done\n",
      "INFO:root:max cluster size: 1\n",
      "INFO:root:create contact list\n",
      "INFO:root:contact list is done\n",
      "INFO:root:run test for mean infection times\n",
      "INFO:root:create contact list\n"
     ]
    },
    {
     "name": "stdout",
     "output_type": "stream",
     "text": [
      "iter:  55\n"
     ]
    },
    {
     "name": "stderr",
     "output_type": "stream",
     "text": [
      "INFO:root:contact list is done\n",
      "INFO:root:max cluster size: 1\n",
      "INFO:root:create contact list\n",
      "INFO:root:contact list is done\n",
      "INFO:root:run test for mean infection times\n",
      "INFO:root:run test for mean infection times\n",
      "INFO:root:run test for mean infection times\n",
      "INFO:root:run test for mean infection times\n",
      "INFO:root:run test for mean infection times\n",
      "INFO:root:run test for mean infection times\n",
      "INFO:root:run test for mean infection times\n",
      "INFO:root:run test for mean infection times\n",
      "INFO:root:run test for mean infection times\n",
      "INFO:root:run test for mean infection times\n",
      "INFO:root:run test for mean infection times\n",
      "INFO:root:run test for mean infection times\n",
      "INFO:root:run test for mean infection times\n",
      "INFO:root:run test for mean infection times\n",
      "INFO:root:run test for mean infection times\n",
      "INFO:root:run test for mean infection times\n",
      "INFO:root:run test for mean infection times\n",
      "INFO:root:run test for mean infection times\n",
      "INFO:root:run test for mean infection times\n",
      "INFO:root:run test for mean infection times\n",
      "INFO:root:run test for mean infection times\n",
      "INFO:root:run test for mean infection times\n",
      "INFO:root:run test for mean infection times\n",
      "INFO:root:run test for mean infection times\n",
      "INFO:root:run test for mean infection times\n",
      "INFO:root:run test for mean infection times\n",
      "INFO:root:run test for mean infection times\n",
      "INFO:root:run test for mean infection times\n",
      "INFO:root:run test for mean infection times\n",
      "INFO:root:run test for mean infection times\n",
      "INFO:root:run test for mean infection times\n",
      "INFO:root:run test for mean infection times\n",
      "INFO:root:run test for mean infection times\n",
      "INFO:root:run test for mean infection times\n",
      "INFO:root:run test for mean infection times\n",
      "INFO:root:run test for mean infection times\n",
      "INFO:root:run test for mean infection times\n",
      "INFO:root:run test for mean infection times\n",
      "INFO:root:run test for mean infection times\n",
      "INFO:root:run test for mean infection times\n",
      "INFO:root:run test for mean infection times\n",
      "INFO:root:run test for mean infection times\n",
      "INFO:root:run test for mean infection times\n",
      "INFO:root:run test for mean infection times\n",
      "INFO:root:run test for mean infection times\n",
      "INFO:root:run test for mean infection times\n",
      "INFO:root:run test for mean infection times\n",
      "INFO:root:run test for mean infection times\n",
      "INFO:root:run test for mean infection times\n",
      "INFO:root:run test for mean infection times\n",
      "INFO:root:run test for mean infection times\n",
      "INFO:root:run test for mean infection times\n",
      "INFO:root:run test for mean infection times\n",
      "INFO:root:run test for mean infection times\n",
      "INFO:root:run test for mean infection times\n"
     ]
    }
   ],
   "source": [
    "## initialize a model \n",
    "model1 = gl.SIS_model(w1)#no clustering\n",
    "model2 = gl.SIS_model(w2)#clustering\n",
    "\n",
    "## infect an agent \n",
    "for model in [model1,model2]:\n",
    "    i = 1   # selected agent ID \n",
    "    model.world.agents[i].state=1 ## infect one agent\n",
    "    model.world.agents[i].times['infection'] = 0 \n"
   ]
  },
  {
   "cell_type": "code",
   "execution_count": 4,
   "metadata": {},
   "outputs": [],
   "source": [
    "## run a simulation\n",
    "for model in [model1,model2]:\n",
    "    model.run(timespan=2000, only_inf_rel_contacts=True)"
   ]
  },
  {
   "cell_type": "code",
   "execution_count": 5,
   "metadata": {},
   "outputs": [
    {
     "data": {
      "text/html": [
       "<div>\n",
       "<style scoped>\n",
       "    .dataframe tbody tr th:only-of-type {\n",
       "        vertical-align: middle;\n",
       "    }\n",
       "\n",
       "    .dataframe tbody tr th {\n",
       "        vertical-align: top;\n",
       "    }\n",
       "\n",
       "    .dataframe thead th {\n",
       "        text-align: right;\n",
       "    }\n",
       "</style>\n",
       "<table border=\"1\" class=\"dataframe\">\n",
       "  <thead>\n",
       "    <tr style=\"text-align: right;\">\n",
       "      <th></th>\n",
       "      <th>home</th>\n",
       "      <th>h_ID</th>\n",
       "      <th>type</th>\n",
       "      <th>age</th>\n",
       "      <th>cluster</th>\n",
       "      <th>household_size</th>\n",
       "      <th>cluster_size</th>\n",
       "      <th>cluster_infection_time</th>\n",
       "      <th>Infection_timing_in_cluster</th>\n",
       "      <th>infection_time</th>\n",
       "    </tr>\n",
       "  </thead>\n",
       "  <tbody>\n",
       "    <tr>\n",
       "      <th>0</th>\n",
       "      <td>225</td>\n",
       "      <td>400</td>\n",
       "      <td>under_age</td>\n",
       "      <td>15</td>\n",
       "      <td>400</td>\n",
       "      <td>4</td>\n",
       "      <td>1</td>\n",
       "      <td>866.0</td>\n",
       "      <td>0</td>\n",
       "      <td>866.0</td>\n",
       "    </tr>\n",
       "    <tr>\n",
       "      <th>1</th>\n",
       "      <td>152</td>\n",
       "      <td>265</td>\n",
       "      <td>under_age</td>\n",
       "      <td>16</td>\n",
       "      <td>265</td>\n",
       "      <td>5</td>\n",
       "      <td>1</td>\n",
       "      <td>752.0</td>\n",
       "      <td>0</td>\n",
       "      <td>752.0</td>\n",
       "    </tr>\n",
       "    <tr>\n",
       "      <th>2</th>\n",
       "      <td>205</td>\n",
       "      <td>373</td>\n",
       "      <td>public_worker</td>\n",
       "      <td>34</td>\n",
       "      <td>373</td>\n",
       "      <td>2</td>\n",
       "      <td>1</td>\n",
       "      <td>971.0</td>\n",
       "      <td>0</td>\n",
       "      <td>971.0</td>\n",
       "    </tr>\n",
       "    <tr>\n",
       "      <th>3</th>\n",
       "      <td>564</td>\n",
       "      <td>1059</td>\n",
       "      <td>adult</td>\n",
       "      <td>53</td>\n",
       "      <td>1059</td>\n",
       "      <td>2</td>\n",
       "      <td>1</td>\n",
       "      <td>983.0</td>\n",
       "      <td>0</td>\n",
       "      <td>983.0</td>\n",
       "    </tr>\n",
       "    <tr>\n",
       "      <th>4</th>\n",
       "      <td>100</td>\n",
       "      <td>177</td>\n",
       "      <td>adult</td>\n",
       "      <td>40</td>\n",
       "      <td>177</td>\n",
       "      <td>2</td>\n",
       "      <td>1</td>\n",
       "      <td>807.0</td>\n",
       "      <td>0</td>\n",
       "      <td>807.0</td>\n",
       "    </tr>\n",
       "  </tbody>\n",
       "</table>\n",
       "</div>"
      ],
      "text/plain": [
       "   home  h_ID           type  age  cluster  household_size  cluster_size  \\\n",
       "0   225   400      under_age   15      400               4             1   \n",
       "1   152   265      under_age   16      265               5             1   \n",
       "2   205   373  public_worker   34      373               2             1   \n",
       "3   564  1059          adult   53     1059               2             1   \n",
       "4   100   177          adult   40      177               2             1   \n",
       "\n",
       "   cluster_infection_time  Infection_timing_in_cluster  infection_time  \n",
       "0                   866.0                            0           866.0  \n",
       "1                   752.0                            0           752.0  \n",
       "2                   971.0                            0           971.0  \n",
       "3                   983.0                            0           983.0  \n",
       "4                   807.0                            0           807.0  "
      ]
     },
     "metadata": {},
     "output_type": "display_data"
    },
    {
     "data": {
      "text/html": [
       "<div>\n",
       "<style scoped>\n",
       "    .dataframe tbody tr th:only-of-type {\n",
       "        vertical-align: middle;\n",
       "    }\n",
       "\n",
       "    .dataframe tbody tr th {\n",
       "        vertical-align: top;\n",
       "    }\n",
       "\n",
       "    .dataframe thead th {\n",
       "        text-align: right;\n",
       "    }\n",
       "</style>\n",
       "<table border=\"1\" class=\"dataframe\">\n",
       "  <thead>\n",
       "    <tr style=\"text-align: right;\">\n",
       "      <th></th>\n",
       "      <th>home</th>\n",
       "      <th>h_ID</th>\n",
       "      <th>type</th>\n",
       "      <th>age</th>\n",
       "      <th>household_size</th>\n",
       "      <th>cluster</th>\n",
       "      <th>cluster_size</th>\n",
       "      <th>cluster_infection_time</th>\n",
       "      <th>Infection_timing_in_cluster</th>\n",
       "      <th>infection_time</th>\n",
       "    </tr>\n",
       "  </thead>\n",
       "  <tbody>\n",
       "    <tr>\n",
       "      <th>0</th>\n",
       "      <td>225</td>\n",
       "      <td>400</td>\n",
       "      <td>under_age</td>\n",
       "      <td>15</td>\n",
       "      <td>4</td>\n",
       "      <td>161</td>\n",
       "      <td>4</td>\n",
       "      <td>437.0</td>\n",
       "      <td>0</td>\n",
       "      <td>437.0</td>\n",
       "    </tr>\n",
       "    <tr>\n",
       "      <th>1</th>\n",
       "      <td>152</td>\n",
       "      <td>265</td>\n",
       "      <td>under_age</td>\n",
       "      <td>16</td>\n",
       "      <td>5</td>\n",
       "      <td>214</td>\n",
       "      <td>5</td>\n",
       "      <td>210.0</td>\n",
       "      <td>0</td>\n",
       "      <td>210.0</td>\n",
       "    </tr>\n",
       "    <tr>\n",
       "      <th>2</th>\n",
       "      <td>205</td>\n",
       "      <td>373</td>\n",
       "      <td>public_worker</td>\n",
       "      <td>34</td>\n",
       "      <td>2</td>\n",
       "      <td>142</td>\n",
       "      <td>2</td>\n",
       "      <td>441.0</td>\n",
       "      <td>0</td>\n",
       "      <td>441.0</td>\n",
       "    </tr>\n",
       "    <tr>\n",
       "      <th>3</th>\n",
       "      <td>564</td>\n",
       "      <td>1059</td>\n",
       "      <td>adult</td>\n",
       "      <td>53</td>\n",
       "      <td>2</td>\n",
       "      <td>50</td>\n",
       "      <td>2</td>\n",
       "      <td>351.0</td>\n",
       "      <td>0</td>\n",
       "      <td>351.0</td>\n",
       "    </tr>\n",
       "    <tr>\n",
       "      <th>4</th>\n",
       "      <td>100</td>\n",
       "      <td>177</td>\n",
       "      <td>adult</td>\n",
       "      <td>40</td>\n",
       "      <td>2</td>\n",
       "      <td>71</td>\n",
       "      <td>8</td>\n",
       "      <td>255.0</td>\n",
       "      <td>0</td>\n",
       "      <td>255.0</td>\n",
       "    </tr>\n",
       "  </tbody>\n",
       "</table>\n",
       "</div>"
      ],
      "text/plain": [
       "   home  h_ID           type  age  household_size  cluster  cluster_size  \\\n",
       "0   225   400      under_age   15               4      161             4   \n",
       "1   152   265      under_age   16               5      214             5   \n",
       "2   205   373  public_worker   34               2      142             2   \n",
       "3   564  1059          adult   53               2       50             2   \n",
       "4   100   177          adult   40               2       71             8   \n",
       "\n",
       "   cluster_infection_time  Infection_timing_in_cluster  infection_time  \n",
       "0                   437.0                            0           437.0  \n",
       "1                   210.0                            0           210.0  \n",
       "2                   441.0                            0           441.0  \n",
       "3                   351.0                            0           351.0  \n",
       "4                   255.0                            0           255.0  "
      ]
     },
     "metadata": {},
     "output_type": "display_data"
    }
   ],
   "source": [
    "ai_df_1 = model1.world.ai_df\n",
    "ai_df_2 = model2.world.ai_df\n",
    "display(ai_df_1.head(5))\n",
    "display(ai_df_2.head(5))\n"
   ]
  },
  {
   "cell_type": "code",
   "execution_count": 12,
   "metadata": {},
   "outputs": [
    {
     "data": {
      "text/plain": [
       "<matplotlib.legend.Legend at 0x7fd8665d1ff0>"
      ]
     },
     "execution_count": 12,
     "metadata": {},
     "output_type": "execute_result"
    },
    {
     "data": {
      "image/png": "[encoded data removed]",
      "text/plain": [
       "<Figure size 640x480 with 1 Axes>"
      ]
     },
     "metadata": {},
     "output_type": "display_data"
    }
   ],
   "source": [
    "import numpy as np\n",
    "ai_df_1['infection_time'].hist(alpha=0.6,label='without clustering',bins=np.arange(0,1600,100))\n",
    "ai_df_2['infection_time'].hist(alpha=0.6,label='with clustering', bins=np.arange(0,1600,100))\n",
    "plt.xlabel('infection time, h')\n",
    "plt.ylabel('count, h')\n",
    "plt.legend(frameon=False)"
   ]
  },
  {
   "cell_type": "code",
   "execution_count": 18,
   "metadata": {},
   "outputs": [
    {
     "name": "stderr",
     "output_type": "stream",
     "text": [
      "INFO:root:create contact list\n"
     ]
    },
    {
     "name": "stdout",
     "output_type": "stream",
     "text": [
      "iter:  1\n"
     ]
    },
    {
     "name": "stderr",
     "output_type": "stream",
     "text": [
      "INFO:root:contact list is done\n",
      "INFO:root:max cluster size: 1\n",
      "INFO:root:create contact list\n",
      "INFO:root:contact list is done\n",
      "INFO:root:run test for mean infection times\n",
      "INFO:root:create contact list\n"
     ]
    },
    {
     "name": "stdout",
     "output_type": "stream",
     "text": [
      "iter:  55\n"
     ]
    },
    {
     "name": "stderr",
     "output_type": "stream",
     "text": [
      "INFO:root:contact list is done\n",
      "INFO:root:max cluster size: 1\n",
      "INFO:root:create contact list\n",
      "INFO:root:contact list is done\n",
      "INFO:root:run test for mean infection times\n",
      "INFO:root:run test for mean infection times\n",
      "INFO:root:run test for mean infection times\n",
      "INFO:root:run test for mean infection times\n",
      "INFO:root:run test for mean infection times\n",
      "INFO:root:run test for mean infection times\n",
      "INFO:root:run test for mean infection times\n",
      "INFO:root:run test for mean infection times\n",
      "INFO:root:run test for mean infection times\n",
      "INFO:root:run test for mean infection times\n",
      "INFO:root:run test for mean infection times\n",
      "INFO:root:run test for mean infection times\n",
      "INFO:root:run test for mean infection times\n",
      "INFO:root:run test for mean infection times\n",
      "INFO:root:run test for mean infection times\n",
      "INFO:root:run test for mean infection times\n",
      "INFO:root:run test for mean infection times\n",
      "INFO:root:run test for mean infection times\n",
      "INFO:root:run test for mean infection times\n",
      "INFO:root:run test for mean infection times\n",
      "INFO:root:run test for mean infection times\n",
      "INFO:root:run test for mean infection times\n",
      "INFO:root:run test for mean infection times\n",
      "INFO:root:run test for mean infection times\n",
      "INFO:root:run test for mean infection times\n",
      "INFO:root:run test for mean infection times\n",
      "INFO:root:run test for mean infection times\n",
      "INFO:root:run test for mean infection times\n",
      "INFO:root:run test for mean infection times\n",
      "INFO:root:run test for mean infection times\n",
      "INFO:root:run test for mean infection times\n",
      "INFO:root:run test for mean infection times\n",
      "INFO:root:run test for mean infection times\n",
      "INFO:root:run test for mean infection times\n",
      "INFO:root:run test for mean infection times\n",
      "INFO:root:run test for mean infection times\n",
      "INFO:root:run test for mean infection times\n",
      "INFO:root:run test for mean infection times\n",
      "INFO:root:run test for mean infection times\n",
      "INFO:root:run test for mean infection times\n",
      "INFO:root:run test for mean infection times\n",
      "INFO:root:run test for mean infection times\n",
      "INFO:root:run test for mean infection times\n",
      "INFO:root:run test for mean infection times\n",
      "INFO:root:run test for mean infection times\n",
      "INFO:root:run test for mean infection times\n",
      "INFO:root:run test for mean infection times\n",
      "INFO:root:run test for mean infection times\n",
      "INFO:root:run test for mean infection times\n",
      "INFO:root:run test for mean infection times\n",
      "INFO:root:run test for mean infection times\n",
      "INFO:root:run test for mean infection times\n",
      "INFO:root:run test for mean infection times\n",
      "INFO:root:run test for mean infection times\n",
      "INFO:root:run test for mean infection times\n",
      "INFO:root:create contact list\n"
     ]
    },
    {
     "name": "stdout",
     "output_type": "stream",
     "text": [
      "iter:  1\n"
     ]
    },
    {
     "name": "stderr",
     "output_type": "stream",
     "text": [
      "INFO:root:contact list is done\n",
      "INFO:root:max cluster size: 1\n",
      "INFO:root:create contact list\n",
      "INFO:root:contact list is done\n",
      "INFO:root:run test for mean infection times\n",
      "INFO:root:create contact list\n"
     ]
    },
    {
     "name": "stdout",
     "output_type": "stream",
     "text": [
      "iter:  55\n"
     ]
    },
    {
     "name": "stderr",
     "output_type": "stream",
     "text": [
      "INFO:root:contact list is done\n",
      "INFO:root:max cluster size: 1\n",
      "INFO:root:create contact list\n",
      "INFO:root:contact list is done\n",
      "INFO:root:run test for mean infection times\n",
      "INFO:root:run test for mean infection times\n",
      "INFO:root:run test for mean infection times\n",
      "INFO:root:run test for mean infection times\n",
      "INFO:root:run test for mean infection times\n",
      "INFO:root:run test for mean infection times\n",
      "INFO:root:run test for mean infection times\n",
      "INFO:root:run test for mean infection times\n",
      "INFO:root:run test for mean infection times\n",
      "INFO:root:run test for mean infection times\n",
      "INFO:root:run test for mean infection times\n",
      "INFO:root:run test for mean infection times\n",
      "INFO:root:run test for mean infection times\n",
      "INFO:root:run test for mean infection times\n",
      "INFO:root:run test for mean infection times\n",
      "INFO:root:run test for mean infection times\n",
      "INFO:root:run test for mean infection times\n",
      "INFO:root:run test for mean infection times\n",
      "INFO:root:run test for mean infection times\n",
      "INFO:root:run test for mean infection times\n",
      "INFO:root:run test for mean infection times\n",
      "INFO:root:run test for mean infection times\n",
      "INFO:root:run test for mean infection times\n",
      "INFO:root:run test for mean infection times\n",
      "INFO:root:run test for mean infection times\n",
      "INFO:root:run test for mean infection times\n",
      "INFO:root:run test for mean infection times\n",
      "INFO:root:run test for mean infection times\n",
      "INFO:root:run test for mean infection times\n",
      "INFO:root:run test for mean infection times\n",
      "INFO:root:run test for mean infection times\n",
      "INFO:root:run test for mean infection times\n",
      "INFO:root:run test for mean infection times\n",
      "INFO:root:run test for mean infection times\n",
      "INFO:root:run test for mean infection times\n",
      "INFO:root:run test for mean infection times\n",
      "INFO:root:run test for mean infection times\n",
      "INFO:root:run test for mean infection times\n",
      "INFO:root:run test for mean infection times\n",
      "INFO:root:run test for mean infection times\n",
      "INFO:root:run test for mean infection times\n",
      "INFO:root:run test for mean infection times\n",
      "INFO:root:run test for mean infection times\n",
      "INFO:root:run test for mean infection times\n",
      "INFO:root:run test for mean infection times\n",
      "INFO:root:run test for mean infection times\n",
      "INFO:root:run test for mean infection times\n",
      "INFO:root:run test for mean infection times\n",
      "INFO:root:run test for mean infection times\n",
      "INFO:root:run test for mean infection times\n",
      "INFO:root:run test for mean infection times\n",
      "INFO:root:run test for mean infection times\n",
      "INFO:root:run test for mean infection times\n",
      "INFO:root:run test for mean infection times\n",
      "INFO:root:run test for mean infection times\n",
      "INFO:root:create contact list\n"
     ]
    },
    {
     "name": "stdout",
     "output_type": "stream",
     "text": [
      "iter:  1\n"
     ]
    },
    {
     "name": "stderr",
     "output_type": "stream",
     "text": [
      "INFO:root:contact list is done\n",
      "INFO:root:max cluster size: 1\n",
      "INFO:root:create contact list\n",
      "INFO:root:contact list is done\n",
      "INFO:root:run test for mean infection times\n",
      "INFO:root:create contact list\n"
     ]
    },
    {
     "name": "stdout",
     "output_type": "stream",
     "text": [
      "iter:  55\n"
     ]
    },
    {
     "name": "stderr",
     "output_type": "stream",
     "text": [
      "INFO:root:contact list is done\n",
      "INFO:root:max cluster size: 1\n",
      "INFO:root:create contact list\n",
      "INFO:root:contact list is done\n",
      "INFO:root:run test for mean infection times\n",
      "INFO:root:run test for mean infection times\n",
      "INFO:root:run test for mean infection times\n",
      "INFO:root:run test for mean infection times\n",
      "INFO:root:run test for mean infection times\n",
      "INFO:root:run test for mean infection times\n",
      "INFO:root:run test for mean infection times\n",
      "INFO:root:run test for mean infection times\n",
      "INFO:root:run test for mean infection times\n",
      "INFO:root:run test for mean infection times\n",
      "INFO:root:run test for mean infection times\n",
      "INFO:root:run test for mean infection times\n",
      "INFO:root:run test for mean infection times\n",
      "INFO:root:run test for mean infection times\n",
      "INFO:root:run test for mean infection times\n",
      "INFO:root:run test for mean infection times\n",
      "INFO:root:run test for mean infection times\n",
      "INFO:root:run test for mean infection times\n",
      "INFO:root:run test for mean infection times\n",
      "INFO:root:run test for mean infection times\n",
      "INFO:root:run test for mean infection times\n",
      "INFO:root:run test for mean infection times\n",
      "INFO:root:run test for mean infection times\n",
      "INFO:root:run test for mean infection times\n",
      "INFO:root:run test for mean infection times\n",
      "INFO:root:run test for mean infection times\n",
      "INFO:root:run test for mean infection times\n",
      "INFO:root:run test for mean infection times\n",
      "INFO:root:run test for mean infection times\n",
      "INFO:root:run test for mean infection times\n",
      "INFO:root:run test for mean infection times\n",
      "INFO:root:run test for mean infection times\n",
      "INFO:root:run test for mean infection times\n",
      "INFO:root:run test for mean infection times\n",
      "INFO:root:run test for mean infection times\n",
      "INFO:root:run test for mean infection times\n",
      "INFO:root:run test for mean infection times\n",
      "INFO:root:run test for mean infection times\n",
      "INFO:root:run test for mean infection times\n",
      "INFO:root:run test for mean infection times\n",
      "INFO:root:run test for mean infection times\n",
      "INFO:root:run test for mean infection times\n",
      "INFO:root:run test for mean infection times\n",
      "INFO:root:run test for mean infection times\n",
      "INFO:root:run test for mean infection times\n",
      "INFO:root:run test for mean infection times\n",
      "INFO:root:run test for mean infection times\n",
      "INFO:root:run test for mean infection times\n",
      "INFO:root:run test for mean infection times\n",
      "INFO:root:run test for mean infection times\n",
      "INFO:root:run test for mean infection times\n",
      "INFO:root:run test for mean infection times\n",
      "INFO:root:run test for mean infection times\n",
      "INFO:root:run test for mean infection times\n",
      "INFO:root:run test for mean infection times\n",
      "INFO:root:create contact list\n"
     ]
    },
    {
     "name": "stdout",
     "output_type": "stream",
     "text": [
      "iter:  1\n"
     ]
    },
    {
     "name": "stderr",
     "output_type": "stream",
     "text": [
      "INFO:root:contact list is done\n",
      "INFO:root:max cluster size: 1\n",
      "INFO:root:create contact list\n",
      "INFO:root:contact list is done\n",
      "INFO:root:run test for mean infection times\n",
      "INFO:root:create contact list\n"
     ]
    },
    {
     "name": "stdout",
     "output_type": "stream",
     "text": [
      "iter:  55\n"
     ]
    },
    {
     "name": "stderr",
     "output_type": "stream",
     "text": [
      "INFO:root:contact list is done\n",
      "INFO:root:max cluster size: 1\n",
      "INFO:root:create contact list\n",
      "INFO:root:contact list is done\n",
      "INFO:root:run test for mean infection times\n",
      "INFO:root:run test for mean infection times\n",
      "INFO:root:run test for mean infection times\n",
      "INFO:root:run test for mean infection times\n",
      "INFO:root:run test for mean infection times\n",
      "INFO:root:run test for mean infection times\n",
      "INFO:root:run test for mean infection times\n",
      "INFO:root:run test for mean infection times\n",
      "INFO:root:run test for mean infection times\n",
      "INFO:root:run test for mean infection times\n",
      "INFO:root:run test for mean infection times\n",
      "INFO:root:run test for mean infection times\n",
      "INFO:root:run test for mean infection times\n",
      "INFO:root:run test for mean infection times\n",
      "INFO:root:run test for mean infection times\n",
      "INFO:root:run test for mean infection times\n",
      "INFO:root:run test for mean infection times\n",
      "INFO:root:run test for mean infection times\n",
      "INFO:root:run test for mean infection times\n",
      "INFO:root:run test for mean infection times\n",
      "INFO:root:run test for mean infection times\n",
      "INFO:root:run test for mean infection times\n",
      "INFO:root:run test for mean infection times\n",
      "INFO:root:run test for mean infection times\n",
      "INFO:root:run test for mean infection times\n",
      "INFO:root:run test for mean infection times\n",
      "INFO:root:run test for mean infection times\n",
      "INFO:root:run test for mean infection times\n",
      "INFO:root:run test for mean infection times\n",
      "INFO:root:run test for mean infection times\n",
      "INFO:root:run test for mean infection times\n",
      "INFO:root:run test for mean infection times\n",
      "INFO:root:run test for mean infection times\n",
      "INFO:root:run test for mean infection times\n",
      "INFO:root:run test for mean infection times\n",
      "INFO:root:run test for mean infection times\n",
      "INFO:root:run test for mean infection times\n",
      "INFO:root:run test for mean infection times\n",
      "INFO:root:run test for mean infection times\n",
      "INFO:root:run test for mean infection times\n",
      "INFO:root:run test for mean infection times\n",
      "INFO:root:run test for mean infection times\n",
      "INFO:root:run test for mean infection times\n",
      "INFO:root:run test for mean infection times\n",
      "INFO:root:run test for mean infection times\n",
      "INFO:root:run test for mean infection times\n",
      "INFO:root:run test for mean infection times\n",
      "INFO:root:run test for mean infection times\n",
      "INFO:root:run test for mean infection times\n",
      "INFO:root:run test for mean infection times\n",
      "INFO:root:run test for mean infection times\n",
      "INFO:root:run test for mean infection times\n",
      "INFO:root:run test for mean infection times\n",
      "INFO:root:run test for mean infection times\n",
      "INFO:root:run test for mean infection times\n",
      "INFO:root:create contact list\n"
     ]
    },
    {
     "name": "stdout",
     "output_type": "stream",
     "text": [
      "iter:  1\n"
     ]
    },
    {
     "name": "stderr",
     "output_type": "stream",
     "text": [
      "INFO:root:contact list is done\n",
      "INFO:root:max cluster size: 1\n",
      "INFO:root:create contact list\n",
      "INFO:root:contact list is done\n",
      "INFO:root:run test for mean infection times\n",
      "INFO:root:create contact list\n"
     ]
    },
    {
     "name": "stdout",
     "output_type": "stream",
     "text": [
      "iter:  55\n"
     ]
    },
    {
     "name": "stderr",
     "output_type": "stream",
     "text": [
      "INFO:root:contact list is done\n",
      "INFO:root:max cluster size: 1\n",
      "INFO:root:create contact list\n",
      "INFO:root:contact list is done\n",
      "INFO:root:run test for mean infection times\n",
      "INFO:root:run test for mean infection times\n",
      "INFO:root:run test for mean infection times\n",
      "INFO:root:run test for mean infection times\n",
      "INFO:root:run test for mean infection times\n",
      "INFO:root:run test for mean infection times\n",
      "INFO:root:run test for mean infection times\n",
      "INFO:root:run test for mean infection times\n",
      "INFO:root:run test for mean infection times\n",
      "INFO:root:run test for mean infection times\n",
      "INFO:root:run test for mean infection times\n",
      "INFO:root:run test for mean infection times\n",
      "INFO:root:run test for mean infection times\n",
      "INFO:root:run test for mean infection times\n",
      "INFO:root:run test for mean infection times\n",
      "INFO:root:run test for mean infection times\n",
      "INFO:root:run test for mean infection times\n",
      "INFO:root:run test for mean infection times\n",
      "INFO:root:run test for mean infection times\n",
      "INFO:root:run test for mean infection times\n",
      "INFO:root:run test for mean infection times\n",
      "INFO:root:run test for mean infection times\n",
      "INFO:root:run test for mean infection times\n",
      "INFO:root:run test for mean infection times\n",
      "INFO:root:run test for mean infection times\n",
      "INFO:root:run test for mean infection times\n",
      "INFO:root:run test for mean infection times\n",
      "INFO:root:run test for mean infection times\n",
      "INFO:root:run test for mean infection times\n",
      "INFO:root:run test for mean infection times\n",
      "INFO:root:run test for mean infection times\n",
      "INFO:root:run test for mean infection times\n",
      "INFO:root:run test for mean infection times\n",
      "INFO:root:run test for mean infection times\n",
      "INFO:root:run test for mean infection times\n",
      "INFO:root:run test for mean infection times\n",
      "INFO:root:run test for mean infection times\n",
      "INFO:root:run test for mean infection times\n",
      "INFO:root:run test for mean infection times\n",
      "INFO:root:run test for mean infection times\n",
      "INFO:root:run test for mean infection times\n",
      "INFO:root:run test for mean infection times\n",
      "INFO:root:run test for mean infection times\n",
      "INFO:root:run test for mean infection times\n",
      "INFO:root:run test for mean infection times\n",
      "INFO:root:run test for mean infection times\n",
      "INFO:root:run test for mean infection times\n",
      "INFO:root:run test for mean infection times\n",
      "INFO:root:run test for mean infection times\n",
      "INFO:root:run test for mean infection times\n",
      "INFO:root:run test for mean infection times\n",
      "INFO:root:run test for mean infection times\n",
      "INFO:root:run test for mean infection times\n",
      "INFO:root:run test for mean infection times\n",
      "INFO:root:run test for mean infection times\n"
     ]
    },
    {
     "data": {
      "image/png": "[encoded data removed]",
      "text/plain": [
       "<Figure size 800x400 with 2 Axes>"
      ]
     },
     "metadata": {},
     "output_type": "display_data"
    }
   ],
   "source": [
    "fig, axes = plt.subplots(1,2, figsize=(8,4))\n",
    "inf_times = []\n",
    "for k in range(5):\n",
    "    for l,model in enumerate([model1,model2]):\n",
    "        model.reset()\n",
    "        i = 1   # selected agent ID \n",
    "        model.world.agents[i].state=1 ## infect one agent\n",
    "        model.world.agents[i].times['infection'] = 0\n",
    "        model.run(timespan=2000)\n",
    "        inf_times.append(model.world.ai_df[['h_ID','infection_time']])\n",
    "        model.world.ai_df['infection_time'].hist(alpha=0.5, ax = axes[l], bins=np.arange(0,2000,100))\n",
    "\n",
    "axes[0].set_title(f'without clustering')\n",
    "axes[1].set_title(f'with clustering')\n",
    "for ax in axes:\n",
    "    ax.set_ylabel('count')\n",
    "    ax.set_xlabel('infection time')\n",
    "     "
   ]
  },
  {
   "cell_type": "code",
   "execution_count": 8,
   "metadata": {},
   "outputs": [
    {
     "data": {
      "text/plain": [
       "array([[<Axes: title={'center': 'infection_time'}>]], dtype=object)"
      ]
     },
     "execution_count": 8,
     "metadata": {},
     "output_type": "execute_result"
    },
    {
     "data": {
      "image/png": "[encoded data removed]",
      "text/plain": [
       "<Figure size 640x480 with 1 Axes>"
      ]
     },
     "metadata": {},
     "output_type": "display_data"
    }
   ],
   "source": [
    "import pandas as pd\n",
    "ai_combined = pd.concat(inf_times,axis=0)\n",
    "#pd.merge(on='h_ID')\n",
    "ai_combined.groupby('h_ID').mean().hist()"
   ]
  }
 ],
 "metadata": {
  "kernelspec": {
   "display_name": "tog",
   "language": "python",
   "name": "python3"
  },
  "language_info": {
   "codemirror_mode": {
    "name": "ipython",
    "version": 3
   },
   "file_extension": ".py",
   "mimetype": "text/x-python",
   "name": "python",
   "nbconvert_exporter": "python",
   "pygments_lexer": "ipython3",
   "version": "3.10.4"
  },
  "orig_nbformat": 4
 },
 "nbformat": 4,
 "nbformat_minor": 2
}
