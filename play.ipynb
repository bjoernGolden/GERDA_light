{
 "cells": [
  {
   "attachments": {},
   "cell_type": "markdown",
   "metadata": {},
   "source": [
    "## GERDA LIGHT\n",
    "This notebook is meant to test out and use the reduced  version of GERDA.\n",
    "\n",
    "The \"Light\" version build upon the synthetic population created with the orginial GERDA by using the agent_information Dataframe (*ai.df) and the contact table p_l_t, which states the location ID for all agents for all timesteps (hours) for one week.\n",
    "\n",
    "Worklfow:\n",
    "- create a new world object \n",
    "- initialize a model with this world object\n",
    "- set seed infections\n",
    "- simulate the model \n",
    "\n",
    "\n",
    "PS.: ## - comment,  # - hide lines\n"
   ]
  },
  {
   "cell_type": "code",
   "execution_count": 2,
   "metadata": {},
   "outputs": [],
   "source": [
    "import GERDA_light as gl \n",
    "import numpy as np\n",
    "import logging as log\n",
    "import matplotlib.pyplot as plt\n",
    "\n",
    "plt.style.use('dark_background')"
   ]
  },
  {
   "cell_type": "code",
   "execution_count": 4,
   "metadata": {},
   "outputs": [],
   "source": [
    "logger = log.getLogger()\n",
    "logger.setLevel(log.INFO)\n",
    "logger.disabled = True\n"
   ]
  },
  {
   "cell_type": "code",
   "execution_count": 5,
   "metadata": {},
   "outputs": [
    {
     "name": "stdout",
     "output_type": "stream",
     "text": [
      "Intel MKL WARNING: Support of Intel(R) Streaming SIMD Extensions 4.2 (Intel(R) SSE4.2) enabled only processors has been deprecated. Intel oneAPI Math Kernel Library 2025.0 will require Intel(R) Advanced Vector Extensions (Intel(R) AVX) instructions.\n"
     ]
    }
   ],
   "source": [
    "## initialize a world \n",
    "w1 = gl.World(\n",
    "           p_l_t_filepath = 'src/Gangelt_03_new_p_l_t.gz',\n",
    "           ai_df_filename = 'src/Gangelt_03_new_ai_df.gz',\n",
    "           clustering=False,\n",
    "           k_I=0.2,\n",
    "           )\n",
    "w2 = gl.World(\n",
    "           p_l_t_filepath = 'src/Gangelt_03_new_p_l_t.gz',\n",
    "           ai_df_filename = 'src/Gangelt_03_new_ai_df.gz',\n",
    "           clustering=True,\n",
    "           k_I=0.2,\n",
    "           )\n"
   ]
  },
  {
   "cell_type": "code",
   "execution_count": 6,
   "metadata": {},
   "outputs": [
    {
     "name": "stdout",
     "output_type": "stream",
     "text": [
      "iter:  1\n"
     ]
    }
   ],
   "source": [
    "model = gl.SIS_model(w1)#no clustering\n",
    "i = 1   # selected agent ID \n",
    "model.world.agents[i].state=1 ## infect one agent\n",
    "model.world.agents[i].times['infection'] = 0 \n",
    "model.run(timespan=2000, only_inf_rel_contacts=True)"
   ]
  },
  {
   "cell_type": "code",
   "execution_count": 8,
   "metadata": {},
   "outputs": [
    {
     "name": "stdout",
     "output_type": "stream",
     "text": [
      "iter:  1\n",
      "iter:  70\n"
     ]
    }
   ],
   "source": [
    "## initialize a model \n",
    "model1 = gl.SIS_model(w1)#no clustering\n",
    "model2 = gl.SIS_model(w2)#clustering\n",
    "\n",
    "## infect an agent \n",
    "for model in [model1,model2]:\n",
    "    i = 1   # selected agent ID \n",
    "    model.world.agents[i].state=1 ## infect one agent\n",
    "    model.world.agents[i].times['infection'] = 0 \n"
   ]
  },
  {
   "cell_type": "code",
   "execution_count": 10,
   "metadata": {},
   "outputs": [
    {
     "ename": "IndexError",
     "evalue": "index -41 is out of bounds for axis 0 with size 31",
     "output_type": "error",
     "traceback": [
      "\u001b[0;31m---------------------------------------------------------------------------\u001b[0m",
      "\u001b[0;31mIndexError\u001b[0m                                Traceback (most recent call last)",
      "Cell \u001b[0;32mIn[10], line 3\u001b[0m\n\u001b[1;32m      1\u001b[0m \u001b[39m## run a simulation\u001b[39;00m\n\u001b[1;32m      2\u001b[0m \u001b[39mfor\u001b[39;00m model \u001b[39min\u001b[39;00m [model1,model2]:\n\u001b[0;32m----> 3\u001b[0m     model\u001b[39m.\u001b[39;49mrun(timespan\u001b[39m=\u001b[39;49m\u001b[39m2000\u001b[39;49m, only_inf_rel_contacts\u001b[39m=\u001b[39;49m\u001b[39mTrue\u001b[39;49;00m)\n",
      "File \u001b[0;32m~/projects/corona/GERDA_light/GERDA_light.py:179\u001b[0m, in \u001b[0;36mSIS_model.run\u001b[0;34m(self, timespan, only_inf_rel_contacts, size_dependent_inf_prob)\u001b[0m\n\u001b[1;32m    177\u001b[0m     \u001b[39mself\u001b[39m\u001b[39m.\u001b[39mreal_contacts[t] \u001b[39m=\u001b[39m contact_pairs\n\u001b[1;32m    178\u001b[0m     \u001b[39mfor\u001b[39;00m pair \u001b[39min\u001b[39;00m contact_pairs:\n\u001b[0;32m--> 179\u001b[0m         \u001b[39mself\u001b[39;49m\u001b[39m.\u001b[39;49minfection_attempt(pair,t,size_dependent_inf_prob\u001b[39m=\u001b[39;49msize_dependent_inf_prob)\n\u001b[1;32m    181\u001b[0m \u001b[39m## write transtion times per cluster to ai df  when run is finished\u001b[39;00m\n\u001b[1;32m    182\u001b[0m transition_times \u001b[39m=\u001b[39m create_transition_times_dict(\u001b[39mself\u001b[39m\u001b[39m.\u001b[39mworld\u001b[39m.\u001b[39magents)\n",
      "File \u001b[0;32m~/projects/corona/GERDA_light/GERDA_light.py:197\u001b[0m, in \u001b[0;36mSIS_model.infection_attempt\u001b[0;34m(self, pair, t, size_dependent_inf_prob)\u001b[0m\n\u001b[1;32m    195\u001b[0m \u001b[39mif\u001b[39;00m inf_duration_days \u001b[39m<\u001b[39m \u001b[39m21\u001b[39m: \u001b[39m## replace 21 with length of distribution\u001b[39;00m\n\u001b[1;32m    196\u001b[0m     \u001b[39mif\u001b[39;00m size_dependent_inf_prob:\n\u001b[0;32m--> 197\u001b[0m         p_I \u001b[39m=\u001b[39m \u001b[39mself\u001b[39m\u001b[39m.\u001b[39mworld\u001b[39m.\u001b[39mglobal_inf \u001b[39m*\u001b[39m \u001b[39mself\u001b[39;49m\u001b[39m.\u001b[39;49mworld\u001b[39m.\u001b[39;49minfect_prob_dist_per_size[agents[\u001b[39m1\u001b[39;49m]\u001b[39m.\u001b[39;49msize][inf_duration_days]\n\u001b[1;32m    198\u001b[0m     \u001b[39melse\u001b[39;00m:    \n\u001b[1;32m    199\u001b[0m         p_I \u001b[39m=\u001b[39m \u001b[39mself\u001b[39m\u001b[39m.\u001b[39mworld\u001b[39m.\u001b[39mglobal_inf \u001b[39m*\u001b[39m \u001b[39mself\u001b[39m\u001b[39m.\u001b[39mworld\u001b[39m.\u001b[39minfect_prob_dist[inf_duration_days]\n",
      "\u001b[0;31mIndexError\u001b[0m: index -41 is out of bounds for axis 0 with size 31"
     ]
    }
   ],
   "source": [
    "## run a simulation\n",
    "for model in [model1,model2]:\n",
    "    model.run(timespan=2000, only_inf_rel_contacts=True)"
   ]
  },
  {
   "cell_type": "code",
   "execution_count": 11,
   "metadata": {},
   "outputs": [
    {
     "data": {
      "text/html": [
       "<div>\n",
       "<style scoped>\n",
       "    .dataframe tbody tr th:only-of-type {\n",
       "        vertical-align: middle;\n",
       "    }\n",
       "\n",
       "    .dataframe tbody tr th {\n",
       "        vertical-align: top;\n",
       "    }\n",
       "\n",
       "    .dataframe thead th {\n",
       "        text-align: right;\n",
       "    }\n",
       "</style>\n",
       "<table border=\"1\" class=\"dataframe\">\n",
       "  <thead>\n",
       "    <tr style=\"text-align: right;\">\n",
       "      <th></th>\n",
       "      <th>home</th>\n",
       "      <th>h_ID</th>\n",
       "      <th>type</th>\n",
       "      <th>age</th>\n",
       "      <th>cluster</th>\n",
       "      <th>household_size</th>\n",
       "      <th>cluster_size</th>\n",
       "      <th>cluster_infection_time</th>\n",
       "      <th>Infection_timing_in_cluster</th>\n",
       "      <th>infection_time</th>\n",
       "    </tr>\n",
       "  </thead>\n",
       "  <tbody>\n",
       "    <tr>\n",
       "      <th>0</th>\n",
       "      <td>225</td>\n",
       "      <td>400</td>\n",
       "      <td>under_age</td>\n",
       "      <td>15</td>\n",
       "      <td>400</td>\n",
       "      <td>4</td>\n",
       "      <td>1</td>\n",
       "      <td>1000.0</td>\n",
       "      <td>0</td>\n",
       "      <td>1000.0</td>\n",
       "    </tr>\n",
       "    <tr>\n",
       "      <th>1</th>\n",
       "      <td>152</td>\n",
       "      <td>265</td>\n",
       "      <td>under_age</td>\n",
       "      <td>16</td>\n",
       "      <td>265</td>\n",
       "      <td>5</td>\n",
       "      <td>1</td>\n",
       "      <td>727.0</td>\n",
       "      <td>0</td>\n",
       "      <td>727.0</td>\n",
       "    </tr>\n",
       "    <tr>\n",
       "      <th>2</th>\n",
       "      <td>205</td>\n",
       "      <td>373</td>\n",
       "      <td>public_worker</td>\n",
       "      <td>34</td>\n",
       "      <td>373</td>\n",
       "      <td>2</td>\n",
       "      <td>1</td>\n",
       "      <td>1087.0</td>\n",
       "      <td>0</td>\n",
       "      <td>1087.0</td>\n",
       "    </tr>\n",
       "    <tr>\n",
       "      <th>3</th>\n",
       "      <td>564</td>\n",
       "      <td>1059</td>\n",
       "      <td>adult</td>\n",
       "      <td>53</td>\n",
       "      <td>1059</td>\n",
       "      <td>2</td>\n",
       "      <td>1</td>\n",
       "      <td>555.0</td>\n",
       "      <td>0</td>\n",
       "      <td>555.0</td>\n",
       "    </tr>\n",
       "    <tr>\n",
       "      <th>4</th>\n",
       "      <td>100</td>\n",
       "      <td>177</td>\n",
       "      <td>adult</td>\n",
       "      <td>40</td>\n",
       "      <td>177</td>\n",
       "      <td>2</td>\n",
       "      <td>1</td>\n",
       "      <td>947.0</td>\n",
       "      <td>0</td>\n",
       "      <td>947.0</td>\n",
       "    </tr>\n",
       "  </tbody>\n",
       "</table>\n",
       "</div>"
      ],
      "text/plain": [
       "   home  h_ID           type  age  cluster  household_size  cluster_size  \\\n",
       "0   225   400      under_age   15      400               4             1   \n",
       "1   152   265      under_age   16      265               5             1   \n",
       "2   205   373  public_worker   34      373               2             1   \n",
       "3   564  1059          adult   53     1059               2             1   \n",
       "4   100   177          adult   40      177               2             1   \n",
       "\n",
       "   cluster_infection_time  Infection_timing_in_cluster  infection_time  \n",
       "0                  1000.0                            0          1000.0  \n",
       "1                   727.0                            0           727.0  \n",
       "2                  1087.0                            0          1087.0  \n",
       "3                   555.0                            0           555.0  \n",
       "4                   947.0                            0           947.0  "
      ]
     },
     "metadata": {},
     "output_type": "display_data"
    },
    {
     "data": {
      "text/html": [
       "<div>\n",
       "<style scoped>\n",
       "    .dataframe tbody tr th:only-of-type {\n",
       "        vertical-align: middle;\n",
       "    }\n",
       "\n",
       "    .dataframe tbody tr th {\n",
       "        vertical-align: top;\n",
       "    }\n",
       "\n",
       "    .dataframe thead th {\n",
       "        text-align: right;\n",
       "    }\n",
       "</style>\n",
       "<table border=\"1\" class=\"dataframe\">\n",
       "  <thead>\n",
       "    <tr style=\"text-align: right;\">\n",
       "      <th></th>\n",
       "      <th>home</th>\n",
       "      <th>h_ID</th>\n",
       "      <th>type</th>\n",
       "      <th>age</th>\n",
       "      <th>household_size</th>\n",
       "      <th>cluster</th>\n",
       "      <th>cluster_size</th>\n",
       "      <th>cluster_infection_time</th>\n",
       "      <th>Infection_timing_in_cluster</th>\n",
       "      <th>infection_time</th>\n",
       "    </tr>\n",
       "  </thead>\n",
       "  <tbody>\n",
       "    <tr>\n",
       "      <th>0</th>\n",
       "      <td>225</td>\n",
       "      <td>400</td>\n",
       "      <td>under_age</td>\n",
       "      <td>15</td>\n",
       "      <td>4</td>\n",
       "      <td>83</td>\n",
       "      <td>4</td>\n",
       "      <td>629.0</td>\n",
       "      <td>0</td>\n",
       "      <td>629.0</td>\n",
       "    </tr>\n",
       "    <tr>\n",
       "      <th>1</th>\n",
       "      <td>152</td>\n",
       "      <td>265</td>\n",
       "      <td>under_age</td>\n",
       "      <td>16</td>\n",
       "      <td>5</td>\n",
       "      <td>220</td>\n",
       "      <td>5</td>\n",
       "      <td>521.0</td>\n",
       "      <td>0</td>\n",
       "      <td>521.0</td>\n",
       "    </tr>\n",
       "    <tr>\n",
       "      <th>2</th>\n",
       "      <td>205</td>\n",
       "      <td>373</td>\n",
       "      <td>public_worker</td>\n",
       "      <td>34</td>\n",
       "      <td>2</td>\n",
       "      <td>194</td>\n",
       "      <td>2</td>\n",
       "      <td>427.0</td>\n",
       "      <td>0</td>\n",
       "      <td>427.0</td>\n",
       "    </tr>\n",
       "    <tr>\n",
       "      <th>3</th>\n",
       "      <td>564</td>\n",
       "      <td>1059</td>\n",
       "      <td>adult</td>\n",
       "      <td>53</td>\n",
       "      <td>2</td>\n",
       "      <td>31</td>\n",
       "      <td>2</td>\n",
       "      <td>452.0</td>\n",
       "      <td>0</td>\n",
       "      <td>452.0</td>\n",
       "    </tr>\n",
       "    <tr>\n",
       "      <th>4</th>\n",
       "      <td>100</td>\n",
       "      <td>177</td>\n",
       "      <td>adult</td>\n",
       "      <td>40</td>\n",
       "      <td>2</td>\n",
       "      <td>8</td>\n",
       "      <td>8</td>\n",
       "      <td>327.0</td>\n",
       "      <td>0</td>\n",
       "      <td>327.0</td>\n",
       "    </tr>\n",
       "  </tbody>\n",
       "</table>\n",
       "</div>"
      ],
      "text/plain": [
       "   home  h_ID           type  age  household_size  cluster  cluster_size  \\\n",
       "0   225   400      under_age   15               4       83             4   \n",
       "1   152   265      under_age   16               5      220             5   \n",
       "2   205   373  public_worker   34               2      194             2   \n",
       "3   564  1059          adult   53               2       31             2   \n",
       "4   100   177          adult   40               2        8             8   \n",
       "\n",
       "   cluster_infection_time  Infection_timing_in_cluster  infection_time  \n",
       "0                   629.0                            0           629.0  \n",
       "1                   521.0                            0           521.0  \n",
       "2                   427.0                            0           427.0  \n",
       "3                   452.0                            0           452.0  \n",
       "4                   327.0                            0           327.0  "
      ]
     },
     "metadata": {},
     "output_type": "display_data"
    }
   ],
   "source": [
    "ai_df_1 = model1.world.ai_df\n",
    "ai_df_2 = model2.world.ai_df\n",
    "display(ai_df_1.head(5))\n",
    "display(ai_df_2.head(5))\n"
   ]
  },
  {
   "cell_type": "code",
   "execution_count": 12,
   "metadata": {},
   "outputs": [
    {
     "data": {
      "text/plain": [
       "<matplotlib.legend.Legend at 0x7fa1bf76a0e0>"
      ]
     },
     "execution_count": 12,
     "metadata": {},
     "output_type": "execute_result"
    },
    {
     "data": {
      "image/png": "[encoded data removed]",
      "text/plain": [
       "<Figure size 640x480 with 1 Axes>"
      ]
     },
     "metadata": {},
     "output_type": "display_data"
    }
   ],
   "source": [
    "import numpy as np\n",
    "ai_df_1['infection_time'].hist(alpha=0.6,label='without clustering',bins=np.arange(0,1600,100))\n",
    "ai_df_2['infection_time'].hist(alpha=0.6,label='with clustering', bins=np.arange(0,1600,100))\n",
    "plt.xlabel('infection time, h')\n",
    "plt.ylabel('count, h')\n",
    "plt.legend(frameon=False)"
   ]
  },
  {
   "cell_type": "code",
   "execution_count": 13,
   "metadata": {},
   "outputs": [
    {
     "name": "stdout",
     "output_type": "stream",
     "text": [
      "iter:  1\n",
      "iter:  70\n",
      "iter:  1\n",
      "iter:  70\n",
      "iter:  1\n",
      "iter:  70\n",
      "iter:  1\n",
      "iter:  70\n",
      "iter:  1\n",
      "iter:  70\n"
     ]
    },
    {
     "data": {
      "image/png": "[encoded data removed]",
      "text/plain": [
       "<Figure size 800x400 with 2 Axes>"
      ]
     },
     "metadata": {},
     "output_type": "display_data"
    }
   ],
   "source": [
    "fig, axes = plt.subplots(1,2, figsize=(8,4))\n",
    "inf_times = []\n",
    "for k in range(5):\n",
    "    for l,model in enumerate([model1,model2]):\n",
    "        model.reset()\n",
    "        i = 1   # selected agent ID \n",
    "        model.world.agents[i].state=1 ## infect one agent\n",
    "        model.world.agents[i].times['infection'] = 0\n",
    "        model.run(timespan=2000)\n",
    "        inf_times.append(model.world.ai_df[['h_ID','infection_time']])\n",
    "        model.world.ai_df['infection_time'].hist(alpha=0.5, ax = axes[l], bins=np.arange(0,2000,100))\n",
    "\n",
    "axes[0].set_title(f'without clustering')\n",
    "axes[1].set_title(f'with clustering')\n",
    "for ax in axes:\n",
    "    ax.set_ylabel('count')\n",
    "    ax.set_xlabel('infection time')\n",
    "     "
   ]
  },
  {
   "cell_type": "code",
   "execution_count": 13,
   "metadata": {},
   "outputs": [
    {
     "data": {
      "text/plain": [
       "array([[<Axes: title={'center': 'infection_time'}>]], dtype=object)"
      ]
     },
     "execution_count": 13,
     "metadata": {},
     "output_type": "execute_result"
    },
    {
     "data": {
      "image/png": "[encoded data removed]",
      "text/plain": [
       "<Figure size 640x480 with 1 Axes>"
      ]
     },
     "metadata": {},
     "output_type": "display_data"
    }
   ],
   "source": [
    "import pandas as pd\n",
    "ai_combined = pd.concat(inf_times,axis=0)\n",
    "#pd.merge(on='h_ID')\n",
    "ai_combined.groupby('h_ID').mean().hist()"
   ]
  }
 ],
 "metadata": {
  "kernelspec": {
   "display_name": "net",
   "language": "python",
   "name": "net"
  },
  "language_info": {
   "codemirror_mode": {
    "name": "ipython",
    "version": 3
   },
   "file_extension": ".py",
   "mimetype": "text/x-python",
   "name": "python",
   "nbconvert_exporter": "python",
   "pygments_lexer": "ipython3",
   "version": "3.10.11"
  },
  "orig_nbformat": 4
 },
 "nbformat": 4,
 "nbformat_minor": 2
}
